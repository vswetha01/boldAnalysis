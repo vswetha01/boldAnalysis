{
 "cells": [
  {
   "cell_type": "code",
   "execution_count": 5,
   "metadata": {},
   "outputs": [],
   "source": [
    "filepathX = \"/eyecolor/data/Train.csv\"\n",
    "filepathY = \"/eyecolor/data/TrainLabels.csv\"\n"
   ]
  },
  {
   "cell_type": "code",
   "execution_count": 48,
   "metadata": {},
   "outputs": [
    {
     "data": {
      "text/plain": [
       "array([[1., 1., 1., ..., 1., 1., 1.],\n",
       "       [0., 1., 1., ..., 0., 1., 1.],\n",
       "       [2., 0., 0., ..., 0., 2., 2.],\n",
       "       ...,\n",
       "       [1., 1., 1., ..., 1., 1., 1.],\n",
       "       [0., 1., 1., ..., 1., 1., 1.],\n",
       "       [1., 1., 1., ..., 1., 1., 1.]])"
      ]
     },
     "execution_count": 48,
     "metadata": {},
     "output_type": "execute_result"
    }
   ],
   "source": [
    "import numpy as np\n",
    "input_x = np.genfromtxt(filepathX, delimiter=',')\n",
    "input_x"
   ]
  },
  {
   "cell_type": "code",
   "execution_count": 49,
   "metadata": {},
   "outputs": [
    {
     "name": "stdout",
     "output_type": "stream",
     "text": [
      "100000\n"
     ]
    },
    {
     "data": {
      "text/plain": [
       "(100, 100000)"
      ]
     },
     "execution_count": 49,
     "metadata": {},
     "output_type": "execute_result"
    }
   ],
   "source": [
    "# Read x input and process it with column names\n",
    "x = np.transpose(input_x)\n",
    "x\n",
    "col_names = ['col_'+str(i) for i in range(x.shape[1])]\n",
    "print(len(col_names))\n",
    "df_raw = pd.DataFrame(x, columns= col_names)\n",
    "df_raw.shape"
   ]
  },
  {
   "cell_type": "code",
   "execution_count": 47,
   "metadata": {},
   "outputs": [
    {
     "name": "stdout",
     "output_type": "stream",
     "text": [
      "(array([20,  0, 20,  0,  0, 20,  0, 20,  0, 20]), array([0. , 0.4, 0.8, 1.2, 1.6, 2. , 2.4, 2.8, 3.2, 3.6, 4. ]))\n"
     ]
    },
    {
     "data": {
      "text/plain": [
       "array([[<matplotlib.axes._subplots.AxesSubplot object at 0x1146ee9b0>]],\n",
       "      dtype=object)"
      ]
     },
     "execution_count": 47,
     "metadata": {},
     "output_type": "execute_result"
    },
    {
     "data": {
      "image/png": "[encoded data removed]",
      "text/plain": [
       "<Figure size 432x288 with 1 Axes>"
      ]
     },
     "metadata": {
      "needs_background": "light"
     },
     "output_type": "display_data"
    }
   ],
   "source": [
    "# Read y input\n",
    "y = np.genfromtxt(filepathY,delimiter=',')\n",
    "y\n",
    "print(np.histogram(y))\n",
    "\n",
    "target_y = pd.DataFrame(y)\n",
    "target_y.hist()\n",
    "\n"
   ]
  },
  {
   "cell_type": "code",
   "execution_count": 54,
   "metadata": {},
   "outputs": [
    {
     "data": {
      "text/plain": [
       "((70, 100000), (30, 100000), (70, 1), (30, 1))"
      ]
     },
     "execution_count": 54,
     "metadata": {},
     "output_type": "execute_result"
    }
   ],
   "source": [
    "def split_vals(a,n): return a[:n].copy(), a[n:].copy()\n",
    "n_valid = 30\n",
    "n_trn = len(df_raw)-n_valid\n",
    "raw_train, raw_valid = split_vals(df_raw, n_trn)\n",
    "X_train, X_valid = split_vals(df_raw, n_trn)\n",
    "y_train, y_valid = split_vals(target_y, n_trn)\n",
    "X_train.shape, X_valid.shape, y_train.shape, y_valid.shape"
   ]
  },
  {
   "cell_type": "code",
   "execution_count": 55,
   "metadata": {},
   "outputs": [
    {
     "name": "stdout",
     "output_type": "stream",
     "text": [
      "(array([6, 0, 6, 0, 0, 6, 0, 6, 0, 6]), array([0. , 0.4, 0.8, 1.2, 1.6, 2. , 2.4, 2.8, 3.2, 3.6, 4. ]))\n"
     ]
    },
    {
     "data": {
      "text/plain": [
       "(array([[<matplotlib.axes._subplots.AxesSubplot object at 0x1144bfd68>]],\n",
       "       dtype=object), 30)"
      ]
     },
     "execution_count": 55,
     "metadata": {},
     "output_type": "execute_result"
    },
    {
     "data": {
      "image/png": "[encoded data removed]",
      "text/plain": [
       "<Figure size 432x288 with 1 Axes>"
      ]
     },
     "metadata": {
      "needs_background": "light"
     },
     "output_type": "display_data"
    }
   ],
   "source": [
    "print(np.histogram(y_valid))\n",
    "y_valid.hist(), len(y_valid)\n"
   ]
  },
  {
   "cell_type": "code",
   "execution_count": 106,
   "metadata": {},
   "outputs": [],
   "source": [
    "# Print the metrics\n",
    "from sklearn.metrics import roc_auc_score\n",
    "from sklearn import metrics\n",
    "from sklearn.metrics import confusion_matrix\n",
    "from sklearn.metrics import classification_report\n",
    "\n",
    "def print_score(m, detail=False):\n",
    "    test_preds = m.predict(X_valid)\n",
    "    train_preds = m.predict(X_train)\n",
    "    res = [m.score(X_train, y_train), metrics.accuracy_score(test_preds, y_valid)]\n",
    "    if hasattr(m, 'oob_score_'): res.append(m.oob_score_)\n",
    "    print(\"scores:\",res)   \n",
    "    if detail:\n",
    "        print(\"train confusion matrix: \\n\", confusion_matrix(y_train, train_preds))\n",
    "        print(\"test confusion matrix:\\n\", confusion_matrix(y_valid, test_preds))\n",
    "        print(\"train report:\\n\",classification_report(y_train, train_preds))\n",
    "        print(\"test report:\\n\",classification_report(y_valid, test_preds))\n",
    "\n",
    "    \n",
    "import IPython, graphviz, re\n",
    "from sklearn.tree import export_graphviz\n",
    "def draw_tree(t, df, size=10, ratio=0.6, precision=0):\n",
    "    \"\"\" Draws a representation of a random forest in IPython.\n",
    "    Parameters:\n",
    "    -----------\n",
    "    t: The tree you wish to draw\n",
    "    df: The data used to train the tree. This is used to get the names of the features.\n",
    "    \"\"\"\n",
    "    s=export_graphviz(t, out_file=None, feature_names=df.columns, filled=True,\n",
    "                      special_characters=True, rotate=True, precision=precision)\n",
    "    IPython.display.display(graphviz.Source(re.sub('Tree {',\n",
    "       f'Tree {{ size={size}; ratio={ratio}', s)))\n",
    "    "
   ]
  },
  {
   "cell_type": "code",
   "execution_count": 43,
   "metadata": {},
   "outputs": [],
   "source": [
    "def split_vals(a,n): return a[:n].copy(), a[n:].copy()\n",
    "n_valid = 20  # same as Kaggle's test set size\n",
    "n_trn = len(df_x)-n_valid\n",
    "raw_train, raw_valid = split_vals(df_x, n_trn)\n",
    "X_train, X_valid = split_vals(df_x, n_trn)\n",
    "y_train, y_valid = split_vals(df_y, n_trn)\n",
    "X_train.shape, X_valid.shape, y_train.shape, y_valid.shape"
   ]
  },
  {
   "cell_type": "code",
   "execution_count": 59,
   "metadata": {},
   "outputs": [],
   "source": [
    "# Load scikit's random forest classifier library\n",
    "from sklearn.ensemble import RandomForestClassifier"
   ]
  },
  {
   "cell_type": "code",
   "execution_count": 192,
   "metadata": {},
   "outputs": [
    {
     "name": "stdout",
     "output_type": "stream",
     "text": [
      "CPU times: user 11.8 ms, sys: 17.8 ms, total: 29.6 ms\n",
      "Wall time: 123 ms\n"
     ]
    },
    {
     "name": "stderr",
     "output_type": "stream",
     "text": [
      "/usr/local/lib/python3.7/site-packages/ipykernel_launcher.py:1: DataConversionWarning: A column-vector y was passed when a 1d array was expected. Please change the shape of y to (n_samples,), for example using ravel().\n",
      "  \"\"\"Entry point for launching an IPython kernel.\n"
     ]
    },
    {
     "data": {
      "text/plain": [
       "RandomForestClassifier(bootstrap=False, class_weight=None, criterion='gini',\n",
       "            max_depth=3, max_features='auto', max_leaf_nodes=None,\n",
       "            min_impurity_decrease=0.0, min_impurity_split=None,\n",
       "            min_samples_leaf=1, min_samples_split=2,\n",
       "            min_weight_fraction_leaf=0.0, n_estimators=1, n_jobs=-1,\n",
       "            oob_score=False, random_state=None, verbose=0,\n",
       "            warm_start=False)"
      ]
     },
     "execution_count": 192,
     "metadata": {},
     "output_type": "execute_result"
    }
   ],
   "source": [
    "# Train the first random forest model with one tree\n",
    "clf = RandomForestClassifier(n_jobs=-1, max_depth=3, n_estimators =1,bootstrap=False#, oob_score=True\n",
    "                             ,random_state=None)\n",
    "%time clf.fit(X_train, y_train)\n",
    "clf"
   ]
  },
  {
   "cell_type": "code",
   "execution_count": 193,
   "metadata": {},
   "outputs": [
    {
     "name": "stdout",
     "output_type": "stream",
     "text": [
      "scores: [0.8142857142857143, 0.8333333333333334]\n",
      "CPU times: user 6.11 ms, sys: 3.09 ms, total: 9.2 ms\n",
      "Wall time: 7.7 ms\n"
     ]
    }
   ],
   "source": [
    "%time print_score(clf)\n",
    "# Baseline model "
   ]
  },
  {
   "cell_type": "code",
   "execution_count": 194,
   "metadata": {},
   "outputs": [
    {
     "data": {
      "image/svg+xml": [
       "<?xml version=\"1.0\" encoding=\"UTF-8\" standalone=\"no\"?>\n",
       "<!DOCTYPE svg PUBLIC \"-//W3C//DTD SVG 1.1//EN\"\n",
       " \"http://www.w3.org/Graphics/SVG/1.1/DTD/svg11.dtd\">\n",
       "<!-- Generated by graphviz version 2.40.1 (20161225.0304)\n",
       " -->\n",
       "<!-- Title: Tree Pages: 1 -->\n",
       "<svg width=\"720pt\" height=\"435pt\"\n",
       " viewBox=\"0.00 0.00 720.00 435.02\" xmlns=\"http://www.w3.org/2000/svg\" xmlns:xlink=\"http://www.w3.org/1999/xlink\">\n",
       "<g id=\"graph0\" class=\"graph\" transform=\"scale(.9715 .9715) rotate(0) translate(4 443.8)\">\n",
       "<title>Tree</title>\n",
       "<polygon fill=\"#ffffff\" stroke=\"transparent\" points=\"-4,4 -4,-443.8 737.1484,-443.8 737.1484,4 -4,4\"/>\n",
       "<!-- 0 -->\n",
       "<g id=\"node1\" class=\"node\">\n",
       "<title>0</title>\n",
       "<polygon fill=\"transparent\" stroke=\"#000000\" points=\"168.1862,-317.7821 .1107,-317.7821 .1107,-253.7821 168.1862,-253.7821 168.1862,-317.7821\"/>\n",
       "<text text-anchor=\"start\" x=\"38.5049\" y=\"-302.5821\" font-family=\"Times,serif\" font-size=\"14.00\" fill=\"#000000\">col_21412 ≤ 1.0</text>\n",
       "<text text-anchor=\"start\" x=\"57.061\" y=\"-288.5821\" font-family=\"Times,serif\" font-size=\"14.00\" fill=\"#000000\">gini = 0.8</text>\n",
       "<text text-anchor=\"start\" x=\"47.1489\" y=\"-274.5821\" font-family=\"Times,serif\" font-size=\"14.00\" fill=\"#000000\">samples = 70</text>\n",
       "<text text-anchor=\"start\" x=\"7.8799\" y=\"-260.5821\" font-family=\"Times,serif\" font-size=\"14.00\" fill=\"#000000\">value = [14, 14, 14, 14, 14]</text>\n",
       "</g>\n",
       "<!-- 1 -->\n",
       "<g id=\"node2\" class=\"node\">\n",
       "<title>1</title>\n",
       "<polygon fill=\"#e58139\" stroke=\"#000000\" points=\"355.1863,-375.7821 215.1106,-375.7821 215.1106,-325.7821 355.1863,-325.7821 355.1863,-375.7821\"/>\n",
       "<text text-anchor=\"start\" x=\"258.061\" y=\"-360.5821\" font-family=\"Times,serif\" font-size=\"14.00\" fill=\"#000000\">gini = 0.0</text>\n",
       "<text text-anchor=\"start\" x=\"248.1489\" y=\"-346.5821\" font-family=\"Times,serif\" font-size=\"14.00\" fill=\"#000000\">samples = 14</text>\n",
       "<text text-anchor=\"start\" x=\"222.8799\" y=\"-332.5821\" font-family=\"Times,serif\" font-size=\"14.00\" fill=\"#000000\">value = [14, 0, 0, 0, 0]</text>\n",
       "</g>\n",
       "<!-- 0&#45;&gt;1 -->\n",
       "<g id=\"edge1\" class=\"edge\">\n",
       "<title>0&#45;&gt;1</title>\n",
       "<path fill=\"none\" stroke=\"#000000\" d=\"M168.2259,-312.9713C180.5342,-316.9516 193.1802,-321.0411 205.3985,-324.9923\"/>\n",
       "<polygon fill=\"#000000\" stroke=\"#000000\" points=\"204.4991,-328.3799 215.0909,-328.1267 206.653,-321.7195 204.4991,-328.3799\"/>\n",
       "<text text-anchor=\"middle\" x=\"192.8315\" y=\"-335.3074\" font-family=\"Times,serif\" font-size=\"14.00\" fill=\"#000000\">True</text>\n",
       "</g>\n",
       "<!-- 2 -->\n",
       "<g id=\"node3\" class=\"node\">\n",
       "<title>2</title>\n",
       "<polygon fill=\"transparent\" stroke=\"#000000\" points=\"365.6862,-254.7821 204.6107,-254.7821 204.6107,-190.7821 365.6862,-190.7821 365.6862,-254.7821\"/>\n",
       "<text text-anchor=\"start\" x=\"246.5049\" y=\"-239.5821\" font-family=\"Times,serif\" font-size=\"14.00\" fill=\"#000000\">col_432 ≤ 1.0</text>\n",
       "<text text-anchor=\"start\" x=\"254.561\" y=\"-225.5821\" font-family=\"Times,serif\" font-size=\"14.00\" fill=\"#000000\">gini = 0.75</text>\n",
       "<text text-anchor=\"start\" x=\"248.1489\" y=\"-211.5821\" font-family=\"Times,serif\" font-size=\"14.00\" fill=\"#000000\">samples = 56</text>\n",
       "<text text-anchor=\"start\" x=\"212.3799\" y=\"-197.5821\" font-family=\"Times,serif\" font-size=\"14.00\" fill=\"#000000\">value = [0, 14, 14, 14, 14]</text>\n",
       "</g>\n",
       "<!-- 0&#45;&gt;2 -->\n",
       "<g id=\"edge2\" class=\"edge\">\n",
       "<title>0&#45;&gt;2</title>\n",
       "<path fill=\"none\" stroke=\"#000000\" d=\"M168.2259,-259.4295C176.9018,-256.7102 185.7455,-253.9382 194.4889,-251.1978\"/>\n",
       "<polygon fill=\"#000000\" stroke=\"#000000\" points=\"195.8081,-254.4523 204.3036,-248.1215 193.7145,-247.7727 195.8081,-254.4523\"/>\n",
       "<text text-anchor=\"middle\" x=\"182.1479\" y=\"-232.3402\" font-family=\"Times,serif\" font-size=\"14.00\" fill=\"#000000\">False</text>\n",
       "</g>\n",
       "<!-- 3 -->\n",
       "<g id=\"node4\" class=\"node\">\n",
       "<title>3</title>\n",
       "<polygon fill=\"transparent\" stroke=\"#000000\" points=\"549.6863,-324.7821 402.6106,-324.7821 402.6106,-260.7821 549.6863,-260.7821 549.6863,-324.7821\"/>\n",
       "<text text-anchor=\"start\" x=\"430.5049\" y=\"-309.5821\" font-family=\"Times,serif\" font-size=\"14.00\" fill=\"#000000\">col_95662 ≤ 0.5</text>\n",
       "<text text-anchor=\"start\" x=\"449.061\" y=\"-295.5821\" font-family=\"Times,serif\" font-size=\"14.00\" fill=\"#000000\">gini = 0.5</text>\n",
       "<text text-anchor=\"start\" x=\"439.1489\" y=\"-281.5821\" font-family=\"Times,serif\" font-size=\"14.00\" fill=\"#000000\">samples = 28</text>\n",
       "<text text-anchor=\"start\" x=\"410.3799\" y=\"-267.5821\" font-family=\"Times,serif\" font-size=\"14.00\" fill=\"#000000\">value = [0, 0, 0, 14, 14]</text>\n",
       "</g>\n",
       "<!-- 2&#45;&gt;3 -->\n",
       "<g id=\"edge3\" class=\"edge\">\n",
       "<title>2&#45;&gt;3</title>\n",
       "<path fill=\"none\" stroke=\"#000000\" d=\"M365.8728,-252.3669C374.7703,-255.6278 383.8431,-258.9529 392.7723,-262.2254\"/>\n",
       "<polygon fill=\"#000000\" stroke=\"#000000\" points=\"391.7961,-265.5952 402.3898,-265.7502 394.205,-259.0227 391.7961,-265.5952\"/>\n",
       "</g>\n",
       "<!-- 6 -->\n",
       "<g id=\"node7\" class=\"node\">\n",
       "<title>6</title>\n",
       "<polygon fill=\"transparent\" stroke=\"#000000\" points=\"549.6863,-184.7821 402.6106,-184.7821 402.6106,-120.7821 549.6863,-120.7821 549.6863,-184.7821\"/>\n",
       "<text text-anchor=\"start\" x=\"430.5049\" y=\"-169.5821\" font-family=\"Times,serif\" font-size=\"14.00\" fill=\"#000000\">col_69294 ≤ 1.0</text>\n",
       "<text text-anchor=\"start\" x=\"449.061\" y=\"-155.5821\" font-family=\"Times,serif\" font-size=\"14.00\" fill=\"#000000\">gini = 0.5</text>\n",
       "<text text-anchor=\"start\" x=\"439.1489\" y=\"-141.5821\" font-family=\"Times,serif\" font-size=\"14.00\" fill=\"#000000\">samples = 28</text>\n",
       "<text text-anchor=\"start\" x=\"410.3799\" y=\"-127.5821\" font-family=\"Times,serif\" font-size=\"14.00\" fill=\"#000000\">value = [0, 14, 14, 0, 0]</text>\n",
       "</g>\n",
       "<!-- 2&#45;&gt;6 -->\n",
       "<g id=\"edge6\" class=\"edge\">\n",
       "<title>2&#45;&gt;6</title>\n",
       "<path fill=\"none\" stroke=\"#000000\" d=\"M365.8728,-193.1973C374.7703,-189.9364 383.8431,-186.6113 392.7723,-183.3388\"/>\n",
       "<polygon fill=\"#000000\" stroke=\"#000000\" points=\"394.205,-186.5415 402.3898,-179.814 391.7961,-179.969 394.205,-186.5415\"/>\n",
       "</g>\n",
       "<!-- 4 -->\n",
       "<g id=\"node5\" class=\"node\">\n",
       "<title>4</title>\n",
       "<polygon fill=\"#3c39e5\" stroke=\"#000000\" points=\"725.6863,-421.7821 592.6105,-421.7821 592.6105,-371.7821 725.6863,-371.7821 725.6863,-421.7821\"/>\n",
       "<text text-anchor=\"start\" x=\"632.061\" y=\"-406.5821\" font-family=\"Times,serif\" font-size=\"14.00\" fill=\"#000000\">gini = 0.0</text>\n",
       "<text text-anchor=\"start\" x=\"625.6489\" y=\"-392.5821\" font-family=\"Times,serif\" font-size=\"14.00\" fill=\"#000000\">samples = 1</text>\n",
       "<text text-anchor=\"start\" x=\"600.3799\" y=\"-378.5821\" font-family=\"Times,serif\" font-size=\"14.00\" fill=\"#000000\">value = [0, 0, 0, 1, 0]</text>\n",
       "</g>\n",
       "<!-- 3&#45;&gt;4 -->\n",
       "<g id=\"edge4\" class=\"edge\">\n",
       "<title>3&#45;&gt;4</title>\n",
       "<path fill=\"none\" stroke=\"#000000\" d=\"M532.5477,-324.8341C556.0039,-338.1644 583.0874,-353.5561 606.1698,-366.674\"/>\n",
       "<polygon fill=\"#000000\" stroke=\"#000000\" points=\"604.7091,-369.8696 615.1326,-371.7676 608.1678,-363.7837 604.7091,-369.8696\"/>\n",
       "</g>\n",
       "<!-- 5 -->\n",
       "<g id=\"node6\" class=\"node\">\n",
       "<title>5</title>\n",
       "<polygon fill=\"#e539c0\" fill-opacity=\"0.070588\" stroke=\"#000000\" points=\"732.6863,-305.7821 585.6106,-305.7821 585.6106,-255.7821 732.6863,-255.7821 732.6863,-305.7821\"/>\n",
       "<text text-anchor=\"start\" x=\"625.061\" y=\"-290.5821\" font-family=\"Times,serif\" font-size=\"14.00\" fill=\"#000000\">gini = 0.499</text>\n",
       "<text text-anchor=\"start\" x=\"622.1489\" y=\"-276.5821\" font-family=\"Times,serif\" font-size=\"14.00\" fill=\"#000000\">samples = 27</text>\n",
       "<text text-anchor=\"start\" x=\"593.3799\" y=\"-262.5821\" font-family=\"Times,serif\" font-size=\"14.00\" fill=\"#000000\">value = [0, 0, 0, 13, 14]</text>\n",
       "</g>\n",
       "<!-- 3&#45;&gt;5 -->\n",
       "<g id=\"edge5\" class=\"edge\">\n",
       "<title>3&#45;&gt;5</title>\n",
       "<path fill=\"none\" stroke=\"#000000\" d=\"M549.7905,-287.9531C558.1224,-287.4068 566.6598,-286.8469 575.1117,-286.2927\"/>\n",
       "<polygon fill=\"#000000\" stroke=\"#000000\" points=\"575.6096,-289.7677 585.3592,-285.6207 575.1516,-282.7827 575.6096,-289.7677\"/>\n",
       "</g>\n",
       "<!-- 7 -->\n",
       "<g id=\"node8\" class=\"node\">\n",
       "<title>7</title>\n",
       "<polygon fill=\"#7be539\" stroke=\"#000000\" points=\"729.1863,-183.7821 589.1106,-183.7821 589.1106,-133.7821 729.1863,-133.7821 729.1863,-183.7821\"/>\n",
       "<text text-anchor=\"start\" x=\"632.061\" y=\"-168.5821\" font-family=\"Times,serif\" font-size=\"14.00\" fill=\"#000000\">gini = 0.0</text>\n",
       "<text text-anchor=\"start\" x=\"622.1489\" y=\"-154.5821\" font-family=\"Times,serif\" font-size=\"14.00\" fill=\"#000000\">samples = 14</text>\n",
       "<text text-anchor=\"start\" x=\"596.8799\" y=\"-140.5821\" font-family=\"Times,serif\" font-size=\"14.00\" fill=\"#000000\">value = [0, 14, 0, 0, 0]</text>\n",
       "</g>\n",
       "<!-- 6&#45;&gt;7 -->\n",
       "<g id=\"edge7\" class=\"edge\">\n",
       "<title>6&#45;&gt;7</title>\n",
       "<path fill=\"none\" stroke=\"#000000\" d=\"M549.7905,-155.1966C559.3732,-155.5108 569.2277,-155.8339 578.9113,-156.1514\"/>\n",
       "<polygon fill=\"#000000\" stroke=\"#000000\" points=\"578.8129,-159.6499 588.9223,-156.4796 579.0424,-152.6537 578.8129,-159.6499\"/>\n",
       "</g>\n",
       "<!-- 8 -->\n",
       "<g id=\"node9\" class=\"node\">\n",
       "<title>8</title>\n",
       "<polygon fill=\"#39e5c5\" stroke=\"#000000\" points=\"729.1863,-67.7821 589.1106,-67.7821 589.1106,-17.7821 729.1863,-17.7821 729.1863,-67.7821\"/>\n",
       "<text text-anchor=\"start\" x=\"632.061\" y=\"-52.5821\" font-family=\"Times,serif\" font-size=\"14.00\" fill=\"#000000\">gini = 0.0</text>\n",
       "<text text-anchor=\"start\" x=\"622.1489\" y=\"-38.5821\" font-family=\"Times,serif\" font-size=\"14.00\" fill=\"#000000\">samples = 14</text>\n",
       "<text text-anchor=\"start\" x=\"596.8799\" y=\"-24.5821\" font-family=\"Times,serif\" font-size=\"14.00\" fill=\"#000000\">value = [0, 0, 14, 0, 0]</text>\n",
       "</g>\n",
       "<!-- 6&#45;&gt;8 -->\n",
       "<g id=\"edge8\" class=\"edge\">\n",
       "<title>6&#45;&gt;8</title>\n",
       "<path fill=\"none\" stroke=\"#000000\" d=\"M529.5716,-120.6698C554.4707,-105.7031 583.9484,-87.9843 608.4927,-73.2309\"/>\n",
       "<polygon fill=\"#000000\" stroke=\"#000000\" points=\"610.5269,-76.0919 617.2945,-67.9402 606.9205,-70.0923 610.5269,-76.0919\"/>\n",
       "</g>\n",
       "</g>\n",
       "</svg>\n"
      ],
      "text/plain": [
       "<graphviz.files.Source at 0x119e6bc18>"
      ]
     },
     "metadata": {},
     "output_type": "display_data"
    }
   ],
   "source": [
    "draw_tree(clf.estimators_[0],X_train,precision=3)\n",
    "# From the tree below which is a very basic tree, certain columns are more important than others. \n",
    "# From the tree below col_42421 is best criteria and sems ot be important predictor for the eye color."
   ]
  },
  {
   "cell_type": "code",
   "execution_count": 84,
   "metadata": {},
   "outputs": [],
   "source": [
    "import matplotlib.pyplot as plt\n",
    "from sklearn.model_selection import GridSearchCV"
   ]
  },
  {
   "cell_type": "code",
   "execution_count": 97,
   "metadata": {},
   "outputs": [],
   "source": [
    "# Now I Increase the number of trees to test the improvement in the validation score based on the training\n",
    "m=RandomForestClassifier(random_state=42)\n",
    "param_grid = { \n",
    "    'n_estimators': [5,10],\n",
    "    'max_features': ['auto', 'sqrt', 'log2'],\n",
    "    'max_depth' : [4,5,6,7,8],\n",
    "    'min_samples_leaf' : [3,5,7,9,11],\n",
    "    'criterion' :['gini', 'entropy']\n",
    "}"
   ]
  },
  {
   "cell_type": "code",
   "execution_count": 191,
   "metadata": {},
   "outputs": [],
   "source": [
    "CV_rfc = GridSearchCV(estimator=m, param_grid=param_grid, cv= 5)\n",
    "CV_rfc.fit(X_train, y_train)"
   ]
  },
  {
   "cell_type": "code",
   "execution_count": 99,
   "metadata": {},
   "outputs": [
    {
     "data": {
      "text/plain": [
       "{'criterion': 'gini',\n",
       " 'max_depth': 5,\n",
       " 'max_features': 'auto',\n",
       " 'min_samples_leaf': 3,\n",
       " 'n_estimators': 10}"
      ]
     },
     "execution_count": 99,
     "metadata": {},
     "output_type": "execute_result"
    }
   ],
   "source": [
    "CV_rfc.best_params_"
   ]
  },
  {
   "cell_type": "code",
   "execution_count": 104,
   "metadata": {},
   "outputs": [
    {
     "name": "stderr",
     "output_type": "stream",
     "text": [
      "/usr/local/lib/python3.7/site-packages/ipykernel_launcher.py:2: DataConversionWarning: A column-vector y was passed when a 1d array was expected. Please change the shape of y to (n_samples,), for example using ravel().\n",
      "  \n"
     ]
    },
    {
     "data": {
      "text/plain": [
       "RandomForestClassifier(bootstrap=True, class_weight=None, criterion='gini',\n",
       "            max_depth=6, max_features='auto', max_leaf_nodes=None,\n",
       "            min_impurity_decrease=0.0, min_impurity_split=None,\n",
       "            min_samples_leaf=3, min_samples_split=2,\n",
       "            min_weight_fraction_leaf=0.0, n_estimators=10, n_jobs=None,\n",
       "            oob_score=False, random_state=42, verbose=0, warm_start=False)"
      ]
     },
     "execution_count": 104,
     "metadata": {},
     "output_type": "execute_result"
    }
   ],
   "source": [
    "rfc1=RandomForestClassifier(random_state=42, max_features='auto', n_estimators= 10, max_depth=6, min_samples_leaf= 3, criterion='gini')\n",
    "rfc1.fit(X_train, y_train)\n",
    "rfc1"
   ]
  },
  {
   "cell_type": "code",
   "execution_count": 107,
   "metadata": {},
   "outputs": [
    {
     "name": "stdout",
     "output_type": "stream",
     "text": [
      "scores: [0.8571428571428571, 0.3]\n"
     ]
    }
   ],
   "source": [
    "print_score(rfc1, False)\n",
    "# From this score I notice that the model is overfitting the training data. \n",
    "# Since the validation set error is 0.266 and train score close to 1\n",
    "# And not genralizing well."
   ]
  },
  {
   "cell_type": "code",
   "execution_count": 108,
   "metadata": {},
   "outputs": [
    {
     "name": "stderr",
     "output_type": "stream",
     "text": [
      "/usr/local/lib/python3.7/site-packages/ipykernel_launcher.py:5: DataConversionWarning: A column-vector y was passed when a 1d array was expected. Please change the shape of y to (n_samples,), for example using ravel().\n",
      "  \"\"\"\n",
      "/usr/local/lib/python3.7/site-packages/sklearn/ensemble/forest.py:460: UserWarning: Some inputs do not have OOB scores. This probably means too few trees were used to compute any reliable oob estimates.\n",
      "  warn(\"Some inputs do not have OOB scores. \"\n",
      "/usr/local/lib/python3.7/site-packages/sklearn/ensemble/forest.py:465: RuntimeWarning: invalid value encountered in true_divide\n",
      "  predictions[k].sum(axis=1)[:, np.newaxis])\n"
     ]
    },
    {
     "name": "stdout",
     "output_type": "stream",
     "text": [
      "0.1\n",
      "scores: [1.0, 0.8, 0.6857142857142857]\n"
     ]
    },
    {
     "name": "stderr",
     "output_type": "stream",
     "text": [
      "/usr/local/lib/python3.7/site-packages/ipykernel_launcher.py:5: DataConversionWarning: A column-vector y was passed when a 1d array was expected. Please change the shape of y to (n_samples,), for example using ravel().\n",
      "  \"\"\"\n"
     ]
    },
    {
     "name": "stdout",
     "output_type": "stream",
     "text": [
      "0.2\n",
      "scores: [1.0, 0.9666666666666667, 0.6571428571428571]\n"
     ]
    },
    {
     "name": "stderr",
     "output_type": "stream",
     "text": [
      "/usr/local/lib/python3.7/site-packages/ipykernel_launcher.py:5: DataConversionWarning: A column-vector y was passed when a 1d array was expected. Please change the shape of y to (n_samples,), for example using ravel().\n",
      "  \"\"\"\n",
      "/usr/local/lib/python3.7/site-packages/sklearn/ensemble/forest.py:460: UserWarning: Some inputs do not have OOB scores. This probably means too few trees were used to compute any reliable oob estimates.\n",
      "  warn(\"Some inputs do not have OOB scores. \"\n",
      "/usr/local/lib/python3.7/site-packages/sklearn/ensemble/forest.py:465: RuntimeWarning: invalid value encountered in true_divide\n",
      "  predictions[k].sum(axis=1)[:, np.newaxis])\n"
     ]
    },
    {
     "name": "stdout",
     "output_type": "stream",
     "text": [
      "0.3\n",
      "scores: [1.0, 1.0, 0.8857142857142857]\n"
     ]
    },
    {
     "name": "stderr",
     "output_type": "stream",
     "text": [
      "/usr/local/lib/python3.7/site-packages/ipykernel_launcher.py:5: DataConversionWarning: A column-vector y was passed when a 1d array was expected. Please change the shape of y to (n_samples,), for example using ravel().\n",
      "  \"\"\"\n",
      "/usr/local/lib/python3.7/site-packages/sklearn/ensemble/forest.py:460: UserWarning: Some inputs do not have OOB scores. This probably means too few trees were used to compute any reliable oob estimates.\n",
      "  warn(\"Some inputs do not have OOB scores. \"\n",
      "/usr/local/lib/python3.7/site-packages/sklearn/ensemble/forest.py:465: RuntimeWarning: invalid value encountered in true_divide\n",
      "  predictions[k].sum(axis=1)[:, np.newaxis])\n"
     ]
    },
    {
     "name": "stdout",
     "output_type": "stream",
     "text": [
      "0.4\n",
      "scores: [1.0, 1.0, 0.9285714285714286]\n"
     ]
    },
    {
     "name": "stderr",
     "output_type": "stream",
     "text": [
      "/usr/local/lib/python3.7/site-packages/ipykernel_launcher.py:5: DataConversionWarning: A column-vector y was passed when a 1d array was expected. Please change the shape of y to (n_samples,), for example using ravel().\n",
      "  \"\"\"\n"
     ]
    },
    {
     "name": "stdout",
     "output_type": "stream",
     "text": [
      "0.5\n",
      "scores: [1.0, 1.0, 1.0]\n"
     ]
    }
   ],
   "source": [
    "# I will train a model with different percentages of max features resulting in a better model\n",
    "for n in [0.1,0.2,0.3,0.4,0.5]:\n",
    "    clf = RandomForestClassifier(n_jobs=-1,  n_estimators =10, oob_score=True, max_features = n, min_samples_leaf=3\n",
    "                                 ,random_state=None)\n",
    "    clf.fit(X_train, y_train)\n",
    "    print(n)\n",
    "    print_score(clf)\n",
    "    "
   ]
  },
  {
   "cell_type": "code",
   "execution_count": 113,
   "metadata": {},
   "outputs": [
    {
     "name": "stderr",
     "output_type": "stream",
     "text": [
      "/usr/local/lib/python3.7/site-packages/ipykernel_launcher.py:4: DataConversionWarning: A column-vector y was passed when a 1d array was expected. Please change the shape of y to (n_samples,), for example using ravel().\n",
      "  after removing the cwd from sys.path.\n"
     ]
    },
    {
     "data": {
      "text/plain": [
       "RandomForestClassifier(bootstrap=True, class_weight=None, criterion='gini',\n",
       "            max_depth=None, max_features=0.17, max_leaf_nodes=None,\n",
       "            min_impurity_decrease=0.0, min_impurity_split=None,\n",
       "            min_samples_leaf=3, min_samples_split=2,\n",
       "            min_weight_fraction_leaf=0.0, n_estimators=10, n_jobs=-1,\n",
       "            oob_score=True, random_state=None, verbose=0, warm_start=False)"
      ]
     },
     "execution_count": 113,
     "metadata": {},
     "output_type": "execute_result"
    }
   ],
   "source": [
    "# Final classifier with max_features less than 50%\n",
    "clf = RandomForestClassifier(n_jobs=-1,  n_estimators =10, oob_score=True, max_features = 0.17, min_samples_leaf=3\n",
    "                                 ,random_state=None)\n",
    "clf.fit(X_train, y_train)\n",
    "clf"
   ]
  },
  {
   "cell_type": "code",
   "execution_count": 115,
   "metadata": {},
   "outputs": [
    {
     "name": "stdout",
     "output_type": "stream",
     "text": [
      "scores: [1.0, 1.0, 0.8285714285714286]\n"
     ]
    }
   ],
   "source": [
    "print_score(clf, False)"
   ]
  },
  {
   "cell_type": "code",
   "execution_count": 116,
   "metadata": {},
   "outputs": [
    {
     "name": "stderr",
     "output_type": "stream",
     "text": [
      "/usr/local/lib/python3.7/site-packages/ipykernel_launcher.py:3: DataConversionWarning: A column-vector y was passed when a 1d array was expected. Please change the shape of y to (n_samples,), for example using ravel().\n",
      "  This is separate from the ipykernel package so we can avoid doing imports until\n"
     ]
    },
    {
     "data": {
      "text/plain": [
       "RandomForestClassifier(bootstrap=True, class_weight=None, criterion='gini',\n",
       "            max_depth=None, max_features=0.17, max_leaf_nodes=None,\n",
       "            min_impurity_decrease=0.0, min_impurity_split=None,\n",
       "            min_samples_leaf=3, min_samples_split=2,\n",
       "            min_weight_fraction_leaf=0.0, n_estimators=10, n_jobs=-1,\n",
       "            oob_score=True, random_state=None, verbose=0, warm_start=False)"
      ]
     },
     "execution_count": 116,
     "metadata": {},
     "output_type": "execute_result"
    }
   ],
   "source": [
    "clf.final = RandomForestClassifier(n_jobs=-1,  n_estimators =10, oob_score=True, max_features = 0.17, min_samples_leaf=3\n",
    "                                 ,random_state=None)\n",
    "clf.final.fit(df_raw, target_y)\n",
    "clf.final"
   ]
  },
  {
   "cell_type": "code",
   "execution_count": 119,
   "metadata": {},
   "outputs": [
    {
     "name": "stdout",
     "output_type": "stream",
     "text": [
      "scores: [1.0, 0.87]\n"
     ]
    }
   ],
   "source": [
    "res = [clf.final.score(df_raw, target_y)]\n",
    "if hasattr(clf.final, 'oob_score_'): res.append(clf.final.oob_score_)\n",
    "print(\"scores:\",res)   "
   ]
  },
  {
   "cell_type": "code",
   "execution_count": 125,
   "metadata": {},
   "outputs": [],
   "source": [
    "# Method to get feature importance\n",
    "def rf_feat_importance(m, df):\n",
    "    return pd.DataFrame({'cols':df.columns, 'imp':m.feature_importances_}\n",
    "                       ).sort_values('imp', ascending=False)\n",
    "\n",
    "def plot_fi(fi): return fi.plot('cols', 'imp', 'barh', figsize=(12,7), legend=False)"
   ]
  },
  {
   "cell_type": "code",
   "execution_count": 122,
   "metadata": {},
   "outputs": [
    {
     "data": {
      "text/html": [
       "<div>\n",
       "<style scoped>\n",
       "    .dataframe tbody tr th:only-of-type {\n",
       "        vertical-align: middle;\n",
       "    }\n",
       "\n",
       "    .dataframe tbody tr th {\n",
       "        vertical-align: top;\n",
       "    }\n",
       "\n",
       "    .dataframe thead th {\n",
       "        text-align: right;\n",
       "    }\n",
       "</style>\n",
       "<table border=\"1\" class=\"dataframe\">\n",
       "  <thead>\n",
       "    <tr style=\"text-align: right;\">\n",
       "      <th></th>\n",
       "      <th>cols</th>\n",
       "      <th>imp</th>\n",
       "    </tr>\n",
       "  </thead>\n",
       "  <tbody>\n",
       "    <tr>\n",
       "      <th>2</th>\n",
       "      <td>col_2</td>\n",
       "      <td>0.128925</td>\n",
       "    </tr>\n",
       "    <tr>\n",
       "      <th>76</th>\n",
       "      <td>col_76</td>\n",
       "      <td>0.115328</td>\n",
       "    </tr>\n",
       "    <tr>\n",
       "      <th>69294</th>\n",
       "      <td>col_69294</td>\n",
       "      <td>0.114219</td>\n",
       "    </tr>\n",
       "    <tr>\n",
       "      <th>432</th>\n",
       "      <td>col_432</td>\n",
       "      <td>0.113233</td>\n",
       "    </tr>\n",
       "    <tr>\n",
       "      <th>21412</th>\n",
       "      <td>col_21412</td>\n",
       "      <td>0.097372</td>\n",
       "    </tr>\n",
       "  </tbody>\n",
       "</table>\n",
       "</div>"
      ],
      "text/plain": [
       "            cols       imp\n",
       "2          col_2  0.128925\n",
       "76        col_76  0.115328\n",
       "69294  col_69294  0.114219\n",
       "432      col_432  0.113233\n",
       "21412  col_21412  0.097372"
      ]
     },
     "execution_count": 122,
     "metadata": {},
     "output_type": "execute_result"
    }
   ],
   "source": [
    "fi = rf_feat_importance(clf.final, df_raw)\n",
    "fi[:5]"
   ]
  },
  {
   "cell_type": "code",
   "execution_count": 127,
   "metadata": {},
   "outputs": [
    {
     "data": {
      "image/png": "[encoded data removed]",
      "text/plain": [
       "<Figure size 720x432 with 1 Axes>"
      ]
     },
     "metadata": {
      "needs_background": "light"
     },
     "output_type": "display_data"
    }
   ],
   "source": [
    "f1 = fi[fi.imp>0]\n",
    "f1.plot('cols', 'imp', figsize=(10,6), legend=False);"
   ]
  },
  {
   "cell_type": "code",
   "execution_count": 129,
   "metadata": {},
   "outputs": [
    {
     "name": "stdout",
     "output_type": "stream",
     "text": [
      "57\n"
     ]
    },
    {
     "data": {
      "image/png": "[encoded data removed]",
      "text/plain": [
       "<Figure size 864x504 with 1 Axes>"
      ]
     },
     "metadata": {
      "needs_background": "light"
     },
     "output_type": "display_data"
    }
   ],
   "source": [
    "print(len(f1))\n",
    "plot_fi(f1[:100]);"
   ]
  },
  {
   "cell_type": "code",
   "execution_count": 130,
   "metadata": {},
   "outputs": [
    {
     "name": "stdout",
     "output_type": "stream",
     "text": [
      "44\n"
     ]
    },
    {
     "data": {
      "image/png": "[encoded data removed]",
      "text/plain": [
       "<Figure size 864x504 with 1 Axes>"
      ]
     },
     "metadata": {
      "needs_background": "light"
     },
     "output_type": "display_data"
    }
   ],
   "source": [
    "f2 = fi[fi.imp>0.005];print(len(f2))\n",
    "plot_fi(f2[:100]);"
   ]
  },
  {
   "cell_type": "code",
   "execution_count": 131,
   "metadata": {},
   "outputs": [
    {
     "data": {
      "text/plain": [
       "44"
      ]
     },
     "execution_count": 131,
     "metadata": {},
     "output_type": "execute_result"
    }
   ],
   "source": [
    "to_keep = fi[fi.imp>0.005].cols; len(to_keep)"
   ]
  },
  {
   "cell_type": "code",
   "execution_count": 133,
   "metadata": {},
   "outputs": [],
   "source": [
    "df_keep = df_raw[to_keep].copy()\n",
    "X_train, X_valid = split_vals(df_keep, n_trn)"
   ]
  },
  {
   "cell_type": "code",
   "execution_count": 145,
   "metadata": {},
   "outputs": [
    {
     "name": "stderr",
     "output_type": "stream",
     "text": [
      "/usr/local/lib/python3.7/site-packages/ipykernel_launcher.py:3: DataConversionWarning: A column-vector y was passed when a 1d array was expected. Please change the shape of y to (n_samples,), for example using ravel().\n",
      "  This is separate from the ipykernel package so we can avoid doing imports until\n"
     ]
    },
    {
     "data": {
      "text/plain": [
       "RandomForestClassifier(bootstrap=True, class_weight=None, criterion='gini',\n",
       "            max_depth=None, max_features=0.4, max_leaf_nodes=None,\n",
       "            min_impurity_decrease=0.0, min_impurity_split=None,\n",
       "            min_samples_leaf=3, min_samples_split=2,\n",
       "            min_weight_fraction_leaf=0.0, n_estimators=10, n_jobs=-1,\n",
       "            oob_score=True, random_state=None, verbose=0, warm_start=False)"
      ]
     },
     "execution_count": 145,
     "metadata": {},
     "output_type": "execute_result"
    }
   ],
   "source": [
    "m = RandomForestClassifier(n_jobs=-1,  n_estimators =10, oob_score=True, max_features = 0.4, min_samples_leaf=3\n",
    "                                 ,random_state=None)\n",
    "m.fit(X_train, y_train)\n",
    "m"
   ]
  },
  {
   "cell_type": "code",
   "execution_count": 146,
   "metadata": {},
   "outputs": [
    {
     "name": "stdout",
     "output_type": "stream",
     "text": [
      "scores: [1.0, 1.0, 0.9714285714285714]\n"
     ]
    }
   ],
   "source": [
    "print_score(m, False)"
   ]
  },
  {
   "cell_type": "code",
   "execution_count": 147,
   "metadata": {},
   "outputs": [
    {
     "data": {
      "image/png": "[encoded data removed]",
      "text/plain": [
       "<Figure size 864x504 with 1 Axes>"
      ]
     },
     "metadata": {
      "needs_background": "light"
     },
     "output_type": "display_data"
    }
   ],
   "source": [
    "fi = rf_feat_importance(m, df_keep)\n",
    "plot_fi(fi);"
   ]
  },
  {
   "cell_type": "code",
   "execution_count": 167,
   "metadata": {},
   "outputs": [
    {
     "data": {
      "text/plain": [
       "15"
      ]
     },
     "execution_count": 167,
     "metadata": {},
     "output_type": "execute_result"
    }
   ],
   "source": [
    "fi_1 = fi[fi.imp > 0.005]; len(fi_1)"
   ]
  },
  {
   "cell_type": "code",
   "execution_count": 168,
   "metadata": {},
   "outputs": [],
   "source": [
    "to_keep = fi_1.cols"
   ]
  },
  {
   "cell_type": "code",
   "execution_count": 169,
   "metadata": {},
   "outputs": [],
   "source": [
    "df_keep = df_raw[to_keep].copy()\n",
    "X_train, X_valid = split_vals(df_keep, n_trn)"
   ]
  },
  {
   "cell_type": "code",
   "execution_count": 170,
   "metadata": {},
   "outputs": [
    {
     "name": "stderr",
     "output_type": "stream",
     "text": [
      "/usr/local/lib/python3.7/site-packages/ipykernel_launcher.py:4: DataConversionWarning: A column-vector y was passed when a 1d array was expected. Please change the shape of y to (n_samples,), for example using ravel().\n",
      "  after removing the cwd from sys.path.\n"
     ]
    },
    {
     "data": {
      "text/plain": [
       "RandomForestClassifier(bootstrap=True, class_weight=None, criterion='gini',\n",
       "            max_depth=None, max_features=0.4, max_leaf_nodes=None,\n",
       "            min_impurity_decrease=0.0, min_impurity_split=None,\n",
       "            min_samples_leaf=3, min_samples_split=2,\n",
       "            min_weight_fraction_leaf=0.0, n_estimators=10, n_jobs=-1,\n",
       "            oob_score=True, random_state=None, verbose=0, warm_start=False)"
      ]
     },
     "execution_count": 170,
     "metadata": {},
     "output_type": "execute_result"
    }
   ],
   "source": [
    "\n",
    "clf = RandomForestClassifier(n_jobs=-1,  n_estimators =10, oob_score=True, max_features = 0.4, min_samples_leaf=3\n",
    "                                 ,random_state=None)\n",
    "clf.fit(X_train, y_train)\n",
    "clf"
   ]
  },
  {
   "cell_type": "code",
   "execution_count": 171,
   "metadata": {},
   "outputs": [
    {
     "name": "stdout",
     "output_type": "stream",
     "text": [
      "scores: [1.0, 1.0, 1.0]\n",
      "train confusion matrix: \n",
      " [[14  0  0  0  0]\n",
      " [ 0 14  0  0  0]\n",
      " [ 0  0 14  0  0]\n",
      " [ 0  0  0 14  0]\n",
      " [ 0  0  0  0 14]]\n",
      "test confusion matrix:\n",
      " [[6 0 0 0 0]\n",
      " [0 6 0 0 0]\n",
      " [0 0 6 0 0]\n",
      " [0 0 0 6 0]\n",
      " [0 0 0 0 6]]\n",
      "train report:\n",
      "               precision    recall  f1-score   support\n",
      "\n",
      "         0.0       1.00      1.00      1.00        14\n",
      "         1.0       1.00      1.00      1.00        14\n",
      "         2.0       1.00      1.00      1.00        14\n",
      "         3.0       1.00      1.00      1.00        14\n",
      "         4.0       1.00      1.00      1.00        14\n",
      "\n",
      "   micro avg       1.00      1.00      1.00        70\n",
      "   macro avg       1.00      1.00      1.00        70\n",
      "weighted avg       1.00      1.00      1.00        70\n",
      "\n",
      "test report:\n",
      "               precision    recall  f1-score   support\n",
      "\n",
      "         0.0       1.00      1.00      1.00         6\n",
      "         1.0       1.00      1.00      1.00         6\n",
      "         2.0       1.00      1.00      1.00         6\n",
      "         3.0       1.00      1.00      1.00         6\n",
      "         4.0       1.00      1.00      1.00         6\n",
      "\n",
      "   micro avg       1.00      1.00      1.00        30\n",
      "   macro avg       1.00      1.00      1.00        30\n",
      "weighted avg       1.00      1.00      1.00        30\n",
      "\n"
     ]
    }
   ],
   "source": [
    "print_score(clf, True)"
   ]
  },
  {
   "cell_type": "code",
   "execution_count": 204,
   "metadata": {},
   "outputs": [],
   "source": [
    "#Getting the top 15 predictors columns\n",
    "lst = fi_1['cols']\n",
    "t1 = [int(l[4:]) for l in lst]\n",
    "# t1"
   ]
  },
  {
   "cell_type": "code",
   "execution_count": 173,
   "metadata": {},
   "outputs": [
    {
     "data": {
      "image/png": "[encoded data removed]",
      "text/plain": [
       "<Figure size 1152x720 with 1 Axes>"
      ]
     },
     "metadata": {
      "needs_background": "light"
     },
     "output_type": "display_data"
    }
   ],
   "source": [
    "import scipy\n",
    "from scipy.cluster import hierarchy as hc\n",
    "corr = np.round(scipy.stats.spearmanr(df_keep).correlation, 4)\n",
    "corr_condensed = hc.distance.squareform(1-corr)\n",
    "z = hc.linkage(corr_condensed, method='average')\n",
    "fig = plt.figure(figsize=(16,10))\n",
    "dendrogram = hc.dendrogram(z, labels=df_keep.columns, orientation='left', leaf_font_size=16)\n",
    "plt.show()"
   ]
  },
  {
   "cell_type": "code",
   "execution_count": 175,
   "metadata": {},
   "outputs": [],
   "source": [
    "from  treeinterpreter import treeinterpreter as ti"
   ]
  },
  {
   "cell_type": "code",
   "execution_count": 176,
   "metadata": {},
   "outputs": [
    {
     "data": {
      "text/html": [
       "<div>\n",
       "<style scoped>\n",
       "    .dataframe tbody tr th:only-of-type {\n",
       "        vertical-align: middle;\n",
       "    }\n",
       "\n",
       "    .dataframe tbody tr th {\n",
       "        vertical-align: top;\n",
       "    }\n",
       "\n",
       "    .dataframe thead th {\n",
       "        text-align: right;\n",
       "    }\n",
       "</style>\n",
       "<table border=\"1\" class=\"dataframe\">\n",
       "  <thead>\n",
       "    <tr style=\"text-align: right;\">\n",
       "      <th></th>\n",
       "      <th>col_76</th>\n",
       "      <th>col_2</th>\n",
       "      <th>col_432</th>\n",
       "      <th>col_1242</th>\n",
       "      <th>col_69294</th>\n",
       "      <th>col_21412</th>\n",
       "      <th>col_69528</th>\n",
       "      <th>col_40673</th>\n",
       "      <th>col_81107</th>\n",
       "      <th>col_95662</th>\n",
       "      <th>col_87890</th>\n",
       "      <th>col_54029</th>\n",
       "      <th>col_48133</th>\n",
       "      <th>col_47433</th>\n",
       "      <th>col_3129</th>\n",
       "    </tr>\n",
       "  </thead>\n",
       "  <tbody>\n",
       "    <tr>\n",
       "      <th>0</th>\n",
       "      <td>2.0</td>\n",
       "      <td>2.0</td>\n",
       "      <td>2.0</td>\n",
       "      <td>2.0</td>\n",
       "      <td>0.0</td>\n",
       "      <td>0.0</td>\n",
       "      <td>1.0</td>\n",
       "      <td>1.0</td>\n",
       "      <td>1.0</td>\n",
       "      <td>1.0</td>\n",
       "      <td>1.0</td>\n",
       "      <td>1.0</td>\n",
       "      <td>1.0</td>\n",
       "      <td>1.0</td>\n",
       "      <td>1.0</td>\n",
       "    </tr>\n",
       "    <tr>\n",
       "      <th>1</th>\n",
       "      <td>2.0</td>\n",
       "      <td>0.0</td>\n",
       "      <td>2.0</td>\n",
       "      <td>2.0</td>\n",
       "      <td>0.0</td>\n",
       "      <td>2.0</td>\n",
       "      <td>0.0</td>\n",
       "      <td>2.0</td>\n",
       "      <td>1.0</td>\n",
       "      <td>1.0</td>\n",
       "      <td>1.0</td>\n",
       "      <td>1.0</td>\n",
       "      <td>1.0</td>\n",
       "      <td>1.0</td>\n",
       "      <td>1.0</td>\n",
       "    </tr>\n",
       "    <tr>\n",
       "      <th>2</th>\n",
       "      <td>0.0</td>\n",
       "      <td>0.0</td>\n",
       "      <td>2.0</td>\n",
       "      <td>2.0</td>\n",
       "      <td>2.0</td>\n",
       "      <td>2.0</td>\n",
       "      <td>1.0</td>\n",
       "      <td>1.0</td>\n",
       "      <td>1.0</td>\n",
       "      <td>1.0</td>\n",
       "      <td>2.0</td>\n",
       "      <td>1.0</td>\n",
       "      <td>1.0</td>\n",
       "      <td>1.0</td>\n",
       "      <td>1.0</td>\n",
       "    </tr>\n",
       "    <tr>\n",
       "      <th>3</th>\n",
       "      <td>0.0</td>\n",
       "      <td>2.0</td>\n",
       "      <td>0.0</td>\n",
       "      <td>2.0</td>\n",
       "      <td>2.0</td>\n",
       "      <td>2.0</td>\n",
       "      <td>1.0</td>\n",
       "      <td>1.0</td>\n",
       "      <td>1.0</td>\n",
       "      <td>1.0</td>\n",
       "      <td>1.0</td>\n",
       "      <td>2.0</td>\n",
       "      <td>1.0</td>\n",
       "      <td>0.0</td>\n",
       "      <td>1.0</td>\n",
       "    </tr>\n",
       "    <tr>\n",
       "      <th>4</th>\n",
       "      <td>2.0</td>\n",
       "      <td>2.0</td>\n",
       "      <td>0.0</td>\n",
       "      <td>0.0</td>\n",
       "      <td>2.0</td>\n",
       "      <td>2.0</td>\n",
       "      <td>1.0</td>\n",
       "      <td>1.0</td>\n",
       "      <td>1.0</td>\n",
       "      <td>1.0</td>\n",
       "      <td>1.0</td>\n",
       "      <td>1.0</td>\n",
       "      <td>1.0</td>\n",
       "      <td>1.0</td>\n",
       "      <td>1.0</td>\n",
       "    </tr>\n",
       "  </tbody>\n",
       "</table>\n",
       "</div>"
      ],
      "text/plain": [
       "   col_76  col_2  col_432  col_1242  col_69294  col_21412  col_69528  \\\n",
       "0     2.0    2.0      2.0       2.0        0.0        0.0        1.0   \n",
       "1     2.0    0.0      2.0       2.0        0.0        2.0        0.0   \n",
       "2     0.0    0.0      2.0       2.0        2.0        2.0        1.0   \n",
       "3     0.0    2.0      0.0       2.0        2.0        2.0        1.0   \n",
       "4     2.0    2.0      0.0       0.0        2.0        2.0        1.0   \n",
       "\n",
       "   col_40673  col_81107  col_95662  col_87890  col_54029  col_48133  \\\n",
       "0        1.0        1.0        1.0        1.0        1.0        1.0   \n",
       "1        2.0        1.0        1.0        1.0        1.0        1.0   \n",
       "2        1.0        1.0        1.0        2.0        1.0        1.0   \n",
       "3        1.0        1.0        1.0        1.0        2.0        1.0   \n",
       "4        1.0        1.0        1.0        1.0        1.0        1.0   \n",
       "\n",
       "   col_47433  col_3129  \n",
       "0        1.0       1.0  \n",
       "1        1.0       1.0  \n",
       "2        1.0       1.0  \n",
       "3        0.0       1.0  \n",
       "4        1.0       1.0  "
      ]
     },
     "execution_count": 176,
     "metadata": {},
     "output_type": "execute_result"
    }
   ],
   "source": [
    "df_train, df_valid = split_vals(df_raw[df_keep.columns], n_trn)\n",
    "df_train.head()"
   ]
  },
  {
   "cell_type": "code",
   "execution_count": 177,
   "metadata": {},
   "outputs": [
    {
     "data": {
      "text/plain": [
       "array([[2., 2., 2., 2., 0., 0., 1., 1., 1., 1., 1., 1., 1., 1., 1.]])"
      ]
     },
     "execution_count": 177,
     "metadata": {},
     "output_type": "execute_result"
    }
   ],
   "source": [
    "row = X_valid.values[None,0]; row"
   ]
  },
  {
   "cell_type": "code",
   "execution_count": 182,
   "metadata": {},
   "outputs": [
    {
     "data": {
      "text/plain": [
       "array([[1., 0., 0., 0., 0.]])"
      ]
     },
     "execution_count": 182,
     "metadata": {},
     "output_type": "execute_result"
    }
   ],
   "source": [
    "clf.predict_proba(row)\n",
    "# prediction, bias, contributions = ti.predict(clf, row)"
   ]
  },
  {
   "cell_type": "code",
   "execution_count": 185,
   "metadata": {},
   "outputs": [
    {
     "name": "stdout",
     "output_type": "stream",
     "text": [
      "Prediction [[1. 0. 0. 0. 0.]]\n",
      "Bias (trainset prior) [[0.19428571 0.21714286 0.18857143 0.19142857 0.20857143]]\n",
      "Feature contributions:\n",
      "col_76 [ 0.01392857  0.01607143 -0.02       -0.02285714  0.01285714]\n",
      "col_2 [ 0.19643343 -0.21930728 -0.05857143  0.03628904  0.04515623]\n",
      "col_432 [ 0.07921189  0.0215873   0.01753968 -0.06255814 -0.05578073]\n",
      "col_1242 [ 0.01392857  0.01607143  0.          0.         -0.03      ]\n",
      "col_69294 [ 0.100594    0.05565649 -0.04753968 -0.04724739 -0.06146341]\n",
      "col_21412 [ 0.37582418 -0.08142857 -0.08       -0.09505495 -0.11934066]\n",
      "col_69528 [0. 0. 0. 0. 0.]\n",
      "col_40673 [0. 0. 0. 0. 0.]\n",
      "col_81107 [0. 0. 0. 0. 0.]\n",
      "col_95662 [ 0.02579365 -0.02579365  0.          0.          0.        ]\n",
      "col_87890 [0. 0. 0. 0. 0.]\n",
      "col_54029 [0. 0. 0. 0. 0.]\n",
      "col_48133 [0. 0. 0. 0. 0.]\n",
      "col_47433 [0. 0. 0. 0. 0.]\n",
      "col_3129 [0. 0. 0. 0. 0.]\n"
     ]
    }
   ],
   "source": [
    "prediction, bias, contributions = ti.predict(clf, row)\n",
    "\n",
    "print(\"Prediction\", prediction)\n",
    "print(\"Bias (trainset prior)\", bias)\n",
    "print(\"Feature contributions:\")\n",
    "for c, feature in zip(contributions[0], \n",
    "                             df_keep.columns):\n",
    "    print(feature, c)\n"
   ]
  },
  {
   "cell_type": "code",
   "execution_count": 187,
   "metadata": {},
   "outputs": [],
   "source": [
    "prediction, bias, contributions = ti.predict(clf, row)"
   ]
  },
  {
   "cell_type": "code",
   "execution_count": 188,
   "metadata": {},
   "outputs": [
    {
     "data": {
      "text/plain": [
       "(array([1., 0., 0., 0., 0.]),\n",
       " array([0.19428571, 0.21714286, 0.18857143, 0.19142857, 0.20857143]))"
      ]
     },
     "execution_count": 188,
     "metadata": {},
     "output_type": "execute_result"
    }
   ],
   "source": [
    "prediction[0], bias[0]"
   ]
  },
  {
   "cell_type": "code",
   "execution_count": 189,
   "metadata": {},
   "outputs": [],
   "source": [
    "idxs = np.argsort(contributions[0])"
   ]
  },
  {
   "cell_type": "code",
   "execution_count": 190,
   "metadata": {},
   "outputs": [
    {
     "data": {
      "text/plain": [
       "[(['col_1242', 'col_432', 'col_69294', 'col_76', 'col_2'],\n",
       "  array([2., 2., 0., 2., 2.]),\n",
       "  array([[ 0.01392857,  0.01607143,  0.        ,  0.        , -0.03      ],\n",
       "         [ 0.07921189,  0.0215873 ,  0.01753968, -0.06255814, -0.05578073],\n",
       "         [ 0.100594  ,  0.05565649, -0.04753968, -0.04724739, -0.06146341],\n",
       "         [ 0.01392857,  0.01607143, -0.02      , -0.02285714,  0.01285714],\n",
       "         [ 0.19643343, -0.21930728, -0.05857143,  0.03628904,  0.04515623]])),\n",
       " (['col_2', 'col_432', 'col_1242', 'col_69294', 'col_76'],\n",
       "  array([2., 2., 2., 0., 2.]),\n",
       "  array([[ 0.19643343, -0.21930728, -0.05857143,  0.03628904,  0.04515623],\n",
       "         [ 0.07921189,  0.0215873 ,  0.01753968, -0.06255814, -0.05578073],\n",
       "         [ 0.01392857,  0.01607143,  0.        ,  0.        , -0.03      ],\n",
       "         [ 0.100594  ,  0.05565649, -0.04753968, -0.04724739, -0.06146341],\n",
       "         [ 0.01392857,  0.01607143, -0.02      , -0.02285714,  0.01285714]])),\n",
       " (['col_1242', 'col_69294', 'col_432', 'col_2', 'col_76'],\n",
       "  array([2., 0., 2., 2., 2.]),\n",
       "  array([[ 0.01392857,  0.01607143,  0.        ,  0.        , -0.03      ],\n",
       "         [ 0.100594  ,  0.05565649, -0.04753968, -0.04724739, -0.06146341],\n",
       "         [ 0.07921189,  0.0215873 ,  0.01753968, -0.06255814, -0.05578073],\n",
       "         [ 0.19643343, -0.21930728, -0.05857143,  0.03628904,  0.04515623],\n",
       "         [ 0.01392857,  0.01607143, -0.02      , -0.02285714,  0.01285714]])),\n",
       " (['col_69294', 'col_432', 'col_1242', 'col_76', 'col_2'],\n",
       "  array([0., 2., 2., 2., 2.]),\n",
       "  array([[ 0.100594  ,  0.05565649, -0.04753968, -0.04724739, -0.06146341],\n",
       "         [ 0.07921189,  0.0215873 ,  0.01753968, -0.06255814, -0.05578073],\n",
       "         [ 0.01392857,  0.01607143,  0.        ,  0.        , -0.03      ],\n",
       "         [ 0.01392857,  0.01607143, -0.02      , -0.02285714,  0.01285714],\n",
       "         [ 0.19643343, -0.21930728, -0.05857143,  0.03628904,  0.04515623]])),\n",
       " (['col_69294', 'col_432', 'col_1242', 'col_2', 'col_76'],\n",
       "  array([0., 2., 2., 2., 2.]),\n",
       "  array([[ 0.100594  ,  0.05565649, -0.04753968, -0.04724739, -0.06146341],\n",
       "         [ 0.07921189,  0.0215873 ,  0.01753968, -0.06255814, -0.05578073],\n",
       "         [ 0.01392857,  0.01607143,  0.        ,  0.        , -0.03      ],\n",
       "         [ 0.19643343, -0.21930728, -0.05857143,  0.03628904,  0.04515623],\n",
       "         [ 0.01392857,  0.01607143, -0.02      , -0.02285714,  0.01285714]])),\n",
       " (['col_69294', 'col_1242', 'col_2', 'col_432', 'col_76'],\n",
       "  array([0., 2., 2., 2., 2.]),\n",
       "  array([[ 0.100594  ,  0.05565649, -0.04753968, -0.04724739, -0.06146341],\n",
       "         [ 0.01392857,  0.01607143,  0.        ,  0.        , -0.03      ],\n",
       "         [ 0.19643343, -0.21930728, -0.05857143,  0.03628904,  0.04515623],\n",
       "         [ 0.07921189,  0.0215873 ,  0.01753968, -0.06255814, -0.05578073],\n",
       "         [ 0.01392857,  0.01607143, -0.02      , -0.02285714,  0.01285714]])),\n",
       " (['col_76', 'col_2', 'col_432', 'col_1242', 'col_69294'],\n",
       "  array([2., 2., 2., 2., 0.]),\n",
       "  array([[ 0.01392857,  0.01607143, -0.02      , -0.02285714,  0.01285714],\n",
       "         [ 0.19643343, -0.21930728, -0.05857143,  0.03628904,  0.04515623],\n",
       "         [ 0.07921189,  0.0215873 ,  0.01753968, -0.06255814, -0.05578073],\n",
       "         [ 0.01392857,  0.01607143,  0.        ,  0.        , -0.03      ],\n",
       "         [ 0.100594  ,  0.05565649, -0.04753968, -0.04724739, -0.06146341]])),\n",
       " (['col_76', 'col_2', 'col_432', 'col_1242', 'col_69294'],\n",
       "  array([2., 2., 2., 2., 0.]),\n",
       "  array([[ 0.01392857,  0.01607143, -0.02      , -0.02285714,  0.01285714],\n",
       "         [ 0.19643343, -0.21930728, -0.05857143,  0.03628904,  0.04515623],\n",
       "         [ 0.07921189,  0.0215873 ,  0.01753968, -0.06255814, -0.05578073],\n",
       "         [ 0.01392857,  0.01607143,  0.        ,  0.        , -0.03      ],\n",
       "         [ 0.100594  ,  0.05565649, -0.04753968, -0.04724739, -0.06146341]])),\n",
       " (['col_76', 'col_2', 'col_432', 'col_1242', 'col_69294'],\n",
       "  array([2., 2., 2., 2., 0.]),\n",
       "  array([[ 0.01392857,  0.01607143, -0.02      , -0.02285714,  0.01285714],\n",
       "         [ 0.19643343, -0.21930728, -0.05857143,  0.03628904,  0.04515623],\n",
       "         [ 0.07921189,  0.0215873 ,  0.01753968, -0.06255814, -0.05578073],\n",
       "         [ 0.01392857,  0.01607143,  0.        ,  0.        , -0.03      ],\n",
       "         [ 0.100594  ,  0.05565649, -0.04753968, -0.04724739, -0.06146341]])),\n",
       " (['col_2', 'col_432', 'col_1242', 'col_69294', 'col_76'],\n",
       "  array([2., 2., 2., 0., 2.]),\n",
       "  array([[ 0.19643343, -0.21930728, -0.05857143,  0.03628904,  0.04515623],\n",
       "         [ 0.07921189,  0.0215873 ,  0.01753968, -0.06255814, -0.05578073],\n",
       "         [ 0.01392857,  0.01607143,  0.        ,  0.        , -0.03      ],\n",
       "         [ 0.100594  ,  0.05565649, -0.04753968, -0.04724739, -0.06146341],\n",
       "         [ 0.01392857,  0.01607143, -0.02      , -0.02285714,  0.01285714]])),\n",
       " (['col_76', 'col_2', 'col_432', 'col_1242', 'col_69294'],\n",
       "  array([2., 2., 2., 2., 0.]),\n",
       "  array([[ 0.01392857,  0.01607143, -0.02      , -0.02285714,  0.01285714],\n",
       "         [ 0.19643343, -0.21930728, -0.05857143,  0.03628904,  0.04515623],\n",
       "         [ 0.07921189,  0.0215873 ,  0.01753968, -0.06255814, -0.05578073],\n",
       "         [ 0.01392857,  0.01607143,  0.        ,  0.        , -0.03      ],\n",
       "         [ 0.100594  ,  0.05565649, -0.04753968, -0.04724739, -0.06146341]])),\n",
       " (['col_76', 'col_2', 'col_432', 'col_1242', 'col_69294'],\n",
       "  array([2., 2., 2., 2., 0.]),\n",
       "  array([[ 0.01392857,  0.01607143, -0.02      , -0.02285714,  0.01285714],\n",
       "         [ 0.19643343, -0.21930728, -0.05857143,  0.03628904,  0.04515623],\n",
       "         [ 0.07921189,  0.0215873 ,  0.01753968, -0.06255814, -0.05578073],\n",
       "         [ 0.01392857,  0.01607143,  0.        ,  0.        , -0.03      ],\n",
       "         [ 0.100594  ,  0.05565649, -0.04753968, -0.04724739, -0.06146341]])),\n",
       " (['col_76', 'col_2', 'col_432', 'col_1242', 'col_69294'],\n",
       "  array([2., 2., 2., 2., 0.]),\n",
       "  array([[ 0.01392857,  0.01607143, -0.02      , -0.02285714,  0.01285714],\n",
       "         [ 0.19643343, -0.21930728, -0.05857143,  0.03628904,  0.04515623],\n",
       "         [ 0.07921189,  0.0215873 ,  0.01753968, -0.06255814, -0.05578073],\n",
       "         [ 0.01392857,  0.01607143,  0.        ,  0.        , -0.03      ],\n",
       "         [ 0.100594  ,  0.05565649, -0.04753968, -0.04724739, -0.06146341]])),\n",
       " (['col_76', 'col_2', 'col_432', 'col_1242', 'col_69294'],\n",
       "  array([2., 2., 2., 2., 0.]),\n",
       "  array([[ 0.01392857,  0.01607143, -0.02      , -0.02285714,  0.01285714],\n",
       "         [ 0.19643343, -0.21930728, -0.05857143,  0.03628904,  0.04515623],\n",
       "         [ 0.07921189,  0.0215873 ,  0.01753968, -0.06255814, -0.05578073],\n",
       "         [ 0.01392857,  0.01607143,  0.        ,  0.        , -0.03      ],\n",
       "         [ 0.100594  ,  0.05565649, -0.04753968, -0.04724739, -0.06146341]])),\n",
       " (['col_76', 'col_2', 'col_432', 'col_1242', 'col_69294'],\n",
       "  array([2., 2., 2., 2., 0.]),\n",
       "  array([[ 0.01392857,  0.01607143, -0.02      , -0.02285714,  0.01285714],\n",
       "         [ 0.19643343, -0.21930728, -0.05857143,  0.03628904,  0.04515623],\n",
       "         [ 0.07921189,  0.0215873 ,  0.01753968, -0.06255814, -0.05578073],\n",
       "         [ 0.01392857,  0.01607143,  0.        ,  0.        , -0.03      ],\n",
       "         [ 0.100594  ,  0.05565649, -0.04753968, -0.04724739, -0.06146341]]))]"
      ]
     },
     "execution_count": 190,
     "metadata": {},
     "output_type": "execute_result"
    }
   ],
   "source": [
    "[o for o in zip(df_keep.columns[idxs], df_valid.iloc[0][idxs], contributions[0][idxs])]"
   ]
  },
  {
   "cell_type": "code",
   "execution_count": null,
   "metadata": {},
   "outputs": [],
   "source": []
  }
 ],
 "metadata": {
  "kernelspec": {
   "display_name": "Python 3",
   "language": "python",
   "name": "python3"
  },
  "language_info": {
   "codemirror_mode": {
    "name": "ipython",
    "version": 3
   },
   "file_extension": ".py",
   "mimetype": "text/x-python",
   "name": "python",
   "nbconvert_exporter": "python",
   "pygments_lexer": "ipython3",
   "version": "3.7.0"
  }
 },
 "nbformat": 4,
 "nbformat_minor": 2
}
